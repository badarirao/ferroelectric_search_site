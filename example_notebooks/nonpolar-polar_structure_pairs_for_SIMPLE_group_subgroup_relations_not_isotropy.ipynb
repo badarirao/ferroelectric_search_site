{
 "cells": [
  {
   "cell_type": "code",
   "execution_count": 1,
   "metadata": {},
   "outputs": [],
   "source": [
    "import pymatgen\n",
    "from pymatgen.ext.matproj import MPRester\n",
    "from pymatgen.core.structure import Structure\n",
    "from pymatgen.symmetry.groups import SpaceGroup, SYMM_DATA, sg_symbol_from_int_number"
   ]
  },
  {
   "cell_type": "code",
   "execution_count": 2,
   "metadata": {},
   "outputs": [],
   "source": [
    "# To make Materials Project queries, you need to have your Materials Project API key set in ~/.pmgrc.yaml with:\n",
    "# PMG_MAPI_KEY: YOUR_API_KEY\n",
    "a = MPRester()"
   ]
  },
  {
   "cell_type": "code",
   "execution_count": 3,
   "metadata": {},
   "outputs": [
    {
     "name": "stdout",
     "output_type": "stream",
     "text": [
      "Number of point groups denoted in pymatgen:  40\n",
      "Number of point groups in conventional notation:  32\n"
     ]
    }
   ],
   "source": [
    "# This is a list of the point groups as noted in pymatgen\n",
    "point_groups = []\n",
    "for i in range(1,231):\n",
    "    symbol = sg_symbol_from_int_number(i)\n",
    "    point_groups.append(SYMM_DATA['space_group_encoding'][symbol]['point_group'])\n",
    "\n",
    "# Note that there are 40 of them, rather than 32.\n",
    "print(\"Number of point groups denoted in pymatgen: \", len(set(point_groups)))\n",
    "\n",
    "# This is because multiple conventions are used for the same point group.\n",
    "# This dictionary can be used to convert between them.\n",
    "point_group_conv = {'321' :'32', '312': '32', '3m1' :'3m', '31m': '3m',\n",
    "                    '-3m1' : '-3m', '-31m': '-3m', '-4m2': '-42m', '-62m': '-6m2' }\n",
    "\n",
    "# Using this dictionary we can correct to the standard point group notation.\n",
    "corrected_point_groups = [point_group_conv.get(pg, pg) for pg in point_groups]\n",
    "# Which produces the correct number of point groups. 32.\n",
    "print(\"Number of point groups in conventional notation: \", len(set(corrected_point_groups)))"
   ]
  },
  {
   "cell_type": "code",
   "execution_count": 4,
   "metadata": {},
   "outputs": [
    {
     "name": "stdout",
     "output_type": "stream",
     "text": [
      "Number of polar spacegroups:  68\n"
     ]
    }
   ],
   "source": [
    "# polar_point_groups = ['1', '2', 'm', 'mm2', '4', '4mm', '3', '3m', '3m1', '31m','6', '6mm']\n",
    "# There are 10 polar point groups\n",
    "polar_point_groups = ['1', '2', 'm', 'mm2', '4', '4mm', '3', '3m', '6', '6mm']\n",
    "\n",
    "# Polar spacegroups have polar point groups.\n",
    "polar_spacegroups = []\n",
    "# There are 230 spacegroups\n",
    "for i in range(1,231):\n",
    "    symbol = sg_symbol_from_int_number(i)\n",
    "    pg = SYMM_DATA['space_group_encoding'][symbol]['point_group']\n",
    "    if point_group_conv.get(pg, pg) in polar_point_groups:\n",
    "        polar_spacegroups.append(i)\n",
    "        \n",
    "# 68 of the 230 spacegroups are polar.\n",
    "print(\"Number of polar spacegroups: \", len(polar_spacegroups))"
   ]
  },
  {
   "cell_type": "code",
   "execution_count": 5,
   "metadata": {},
   "outputs": [],
   "source": [
    "# Create dictionary of nonpolar supergroups of polar spacegroups.\n",
    "nonpolar_supergroups = {psg : [] for psg in polar_spacegroups}\n",
    "for psg in polar_spacegroups:\n",
    "    for i in range(1,231):\n",
    "        if i not in polar_spacegroups:\n",
    "            sg = SpaceGroup.from_int_number(psg)\n",
    "            sg2 = SpaceGroup.from_int_number(i)\n",
    "            if sg.is_subgroup(sg2):\n",
    "                nonpolar_supergroups[psg].append(sg2.int_number)"
   ]
  },
  {
   "cell_type": "code",
   "execution_count": 6,
   "metadata": {},
   "outputs": [
    {
     "name": "stdout",
     "output_type": "stream",
     "text": [
      "Number of polar structures in Materials Project:  4\n"
     ]
    }
   ],
   "source": [
    "# Now we are ready to make the query.\n",
    "min_band_gap = 0.0\n",
    "polar_query = a.query(criteria={'band_gap': {'$gt': min_band_gap},\n",
    "                                'spacegroup.number': {'$in': polar_spacegroups},\n",
    "                                # For simplicity (and speed), we use BaTiO3 as an example.\n",
    "                                # Remove this criteria to search generally. This will take much longer.\n",
    "                                'pretty_formula': 'BaTiO3'},\n",
    "                      properties=['material_id', 'spacegroup.number',\n",
    "                                  'pretty_formula', 'band_gap','nsites'])\n",
    "print(\"Number of polar structures in Materials Project: \", len(polar_query))"
   ]
  },
  {
   "cell_type": "code",
   "execution_count": 7,
   "metadata": {},
   "outputs": [
    {
     "name": "stdout",
     "output_type": "stream",
     "text": [
      "mp-5777\tmp-19990\tBaTiO3\t38\t123\t5\t5\n",
      "\n",
      "mp-5777\tmp-504715\tBaTiO3\t38\t221\t5\t5\n",
      "\n",
      "mp-5777\tmp-2998\tBaTiO3\t38\t221\t5\t5\n",
      "\n",
      "mp-5986\tmp-19990\tBaTiO3\t99\t123\t5\t5\n",
      "\n",
      "mp-5986\tmp-504715\tBaTiO3\t99\t221\t5\t5\n",
      "\n",
      "mp-5986\tmp-2998\tBaTiO3\t99\t221\t5\t5\n",
      "\n",
      "mp-644497\tmp-19990\tBaTiO3\t38\t123\t5\t5\n",
      "\n",
      "mp-644497\tmp-504715\tBaTiO3\t38\t221\t5\t5\n",
      "\n",
      "mp-644497\tmp-2998\tBaTiO3\t38\t221\t5\t5\n",
      "\n",
      "mp-5020\tmp-504715\tBaTiO3\t160\t221\t5\t5\n",
      "\n",
      "mp-5020\tmp-2998\tBaTiO3\t160\t221\t5\t5\n",
      "\n"
     ]
    }
   ],
   "source": [
    "# For each polar insulator in the Materials Project find compatible nonpolar structures\n",
    "with open('polar_MP.txt','w') as f:\n",
    "    with open('nonpolar_polar_pairs.txt','w') as f2:\n",
    "        for p in polar_query: \n",
    "            f.write(p['material_id']+\"\\t\"+p['pretty_formula']+\"\\t\"+\\\n",
    "                    str(p['spacegroup.number'])+\"\\t\"+str(p['nsites'])+\"\\n\")\n",
    "         \n",
    "            # Query for nonpolar supergroup structures with same composition for polar structures.\n",
    "            nonpolar_query = a.query(criteria={\"spacegroup.number\" : \n",
    "                {'$in' : nonpolar_supergroups[p['spacegroup.number']] },\n",
    "                 'pretty_formula' : p['pretty_formula'], \n",
    "                 'nsites': {\"$lte\": p['nsites']}},\n",
    "                properties = [\"material_id\", \"pretty_formula\", \"spacegroup.number\",\n",
    "                              \"nsites\"])\n",
    "     \n",
    "            for np in nonpolar_query:\n",
    "                pair_str = p['material_id']+\"\\t\"+np['material_id']+\"\\t\"+\\\n",
    "                    p['pretty_formula']+\"\\t\"+str(p['spacegroup.number'])+\\\n",
    "                    \"\\t\"+str(np['spacegroup.number'])+\"\\t\"+str(p['nsites'])+\\\n",
    "                    \"\\t\"+str(np['nsites'])+\"\\n\"\n",
    "                print(pair_str)\n",
    "                f2.write(pair_str)"
   ]
  },
  {
   "cell_type": "code",
   "execution_count": null,
   "metadata": {},
   "outputs": [],
   "source": []
  }
 ],
 "metadata": {
  "kernelspec": {
   "display_name": "Python 3",
   "language": "python",
   "name": "python3"
  },
  "language_info": {
   "codemirror_mode": {
    "name": "ipython",
    "version": 3
   },
   "file_extension": ".py",
   "mimetype": "text/x-python",
   "name": "python",
   "nbconvert_exporter": "python",
   "pygments_lexer": "ipython3",
   "version": "3.6.6"
  }
 },
 "nbformat": 4,
 "nbformat_minor": 2
}
