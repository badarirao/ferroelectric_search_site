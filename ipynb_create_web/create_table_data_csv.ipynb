{
 "cells": [
  {
   "cell_type": "code",
   "execution_count": 1,
   "metadata": {},
   "outputs": [],
   "source": [
    "import pymongo\n",
    "import pprint"
   ]
  },
  {
   "cell_type": "code",
   "execution_count": 2,
   "metadata": {},
   "outputs": [],
   "source": [
    "M = pymongo.MongoClient()"
   ]
  },
  {
   "cell_type": "code",
   "execution_count": 3,
   "metadata": {},
   "outputs": [],
   "source": [
    "distortions = M.ferroelectric_dataset.distortions\n",
    "workflow_data = M.ferroelectric_dataset.workflow_data"
   ]
  },
  {
   "cell_type": "code",
   "execution_count": 4,
   "metadata": {},
   "outputs": [
    {
     "name": "stdout",
     "output_type": "stream",
     "text": [
      "smooth:  184\n",
      "not_smooth:  55\n",
      "static_only:  42\n",
      "not_complete:  133\n"
     ]
    },
    {
     "name": "stderr",
     "output_type": "stream",
     "text": [
      "/home/tess/.local/lib/python3.6/site-packages/ipykernel_launcher.py:18: DeprecationWarning: count is deprecated. Use Collection.count_documents instead.\n",
      "/home/tess/.local/lib/python3.6/site-packages/ipykernel_launcher.py:19: DeprecationWarning: count is deprecated. Use Collection.count_documents instead.\n",
      "/home/tess/.local/lib/python3.6/site-packages/ipykernel_launcher.py:20: DeprecationWarning: count is deprecated. Use Collection.count_documents instead.\n",
      "/home/tess/.local/lib/python3.6/site-packages/ipykernel_launcher.py:21: DeprecationWarning: count is deprecated. Use Collection.count_documents instead.\n"
     ]
    }
   ],
   "source": [
    "smooth = workflow_data.find({'polarization_len' : 10,\n",
    "                             'polarization_max_spline_jumps': {\"$exists\": True, \"$not\" : { \"$gt\" : 1 }},\n",
    "                             'energies_per_atom_max_spline_jumps': {'$lte': 1e-2}})\n",
    "not_smooth = workflow_data.find({'polarization_len' : 10,\n",
    "                                 'polarization_change_norm': {'$exists': True},\n",
    "                                 '$or': [{'polarization_max_spline_jumps': { \"$gt\" : 1 }},\n",
    "                                         {'energies_per_atom_max_spline_jumps': {'$gt': 1e-2}}]})\n",
    "static = workflow_data.find({'$or': [{'polarization_len' : {'$lt': 10}},\n",
    "                                     {'polarization_change_norm': {'$exists': False}}],\n",
    "                             'static_len': 10,\n",
    "                             'workflow_status': 'COMPLETED'})\n",
    "defused_or_fizzled_or_running = workflow_data.find(\n",
    "    {'$and': [{'$or': [{'polarization_len' : {'$lt': 10}},\n",
    "                       {'polarization_change_norm': {'$exists': False}}]},\n",
    "              {'$or': [{'workflow_status': 'DEFUSED'}, \n",
    "                       {'workflow_status': 'FIZZLED'}, \n",
    "                       {'workflow_status': 'RUNNING'}]}]})\n",
    "print(\"smooth: \", smooth.count())\n",
    "print(\"not_smooth: \", not_smooth.count())\n",
    "print(\"static_only: \", static.count())\n",
    "print(\"not_complete: \", defused_or_fizzled_or_running.count())"
   ]
  },
  {
   "cell_type": "code",
   "execution_count": 5,
   "metadata": {},
   "outputs": [],
   "source": [
    "def get_alphabetical_formula(pretty_formula):\n",
    "    from pymatgen.core.composition import Composition\n",
    "    alphabetical_formula = Composition(pretty_formula).alphabetical_formula.split()\n",
    "    # Remove 1s\n",
    "    alphabetical_formula = [string[:-1] if (string[-1] == \"1\" and string[-2] not in \"0123456789\") else string for string in alphabetical_formula]\n",
    "    # Stringify\n",
    "    alphabetical_formula = \"\".join(alphabetical_formula)\n",
    "    return alphabetical_formula"
   ]
  },
  {
   "cell_type": "code",
   "execution_count": 6,
   "metadata": {},
   "outputs": [],
   "source": [
    "def make_csv_table(pymongo_result, filename):\n",
    "    array = ['Workflow id', 'Formula', 'Polar id', 'Nonpolar id', \n",
    "             'Polar Spacegroup', 'Nonpolar Spacegroup', 'Polarization', \n",
    "             'Energy Difference', 'Max Distortion', 'Band Gap']\n",
    "    with open(filename, 'w') as f:\n",
    "        f.write(\",\".join(array) + \"\\n\")\n",
    "        for entry in pymongo_result:\n",
    "            array = ['<a href=\"candidate.html?wfid=' + entry['wfid'] + '\">'  + entry['wfid'] + '</a>',\n",
    "#                      entry['pretty_formula'],\n",
    "                     get_alphabetical_formula(entry['pretty_formula']),\n",
    "                     '<a href=\"https://materialsproject.org/materials/' + entry['polar_id'] +\\\n",
    "                     '/\">' + entry['polar_id'] + '</a>',\n",
    "                     '<a href=\"https://materialsproject.org/materials/' + entry['nonpolar_id'] +\\\n",
    "                     '/\">' + entry['nonpolar_id'] + '</a>',\n",
    "                     int(entry['polar_spacegroup']),\n",
    "                     int(entry['nonpolar_spacegroup']),\n",
    "                     \"--\" if 'polarization_change_norm' not in entry else \"%.1f\" % float(entry['polarization_change_norm']),\n",
    "                     \"--\" if 'energies_per_atom' not in entry or len(entry['energies_per_atom']) < 2 else \"%.3f\" % (float(entry['energies_per_atom'][0]) - float(entry['energies_per_atom'][-1])),\n",
    "                     \"--\" if 'calculated_max_distance' not in entry else \"%.3f\" % float(entry['calculated_max_distance']),\n",
    "                     \"--\" if 'bandgaps' not in entry else \"%.3f\" % entry['bandgaps'][-1]]\n",
    "            f.write(\",\".join(map(str,array)) + \"\\n\")"
   ]
  },
  {
   "cell_type": "code",
   "execution_count": 7,
   "metadata": {},
   "outputs": [],
   "source": [
    "filenames = [\"../csv/smooth_table_data.csv\", \"../csv/not_smooth_table_data.csv\", \n",
    "             \"../csv/static_only_table_data.csv\", \"../csv/not_complete_table_data.csv\"]\n",
    "pymongo_results = [smooth, not_smooth, static, defused_or_fizzled_or_running]"
   ]
  },
  {
   "cell_type": "code",
   "execution_count": 8,
   "metadata": {},
   "outputs": [],
   "source": [
    "for filename, pymongo_result in zip(filenames, pymongo_results):\n",
    "    make_csv_table(pymongo_result, filename)"
   ]
  },
  {
   "cell_type": "code",
   "execution_count": null,
   "metadata": {},
   "outputs": [],
   "source": []
  }
 ],
 "metadata": {
  "kernelspec": {
   "display_name": "Python 2",
   "language": "python",
   "name": "python2"
  },
  "language_info": {
   "codemirror_mode": {
    "name": "ipython",
    "version": 3
   },
   "file_extension": ".py",
   "mimetype": "text/x-python",
   "name": "python",
   "nbconvert_exporter": "python",
   "pygments_lexer": "ipython3",
   "version": "3.6.6"
  }
 },
 "nbformat": 4,
 "nbformat_minor": 2
}
