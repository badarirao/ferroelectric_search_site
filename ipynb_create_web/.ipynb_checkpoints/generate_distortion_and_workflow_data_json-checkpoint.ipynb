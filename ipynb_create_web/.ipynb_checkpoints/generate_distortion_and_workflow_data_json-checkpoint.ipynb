{
 "cells": [
  {
   "cell_type": "code",
   "execution_count": 1,
   "metadata": {},
   "outputs": [],
   "source": [
    "from pymongo import MongoClient\n",
    "from bson.json_util import dumps\n",
    "import json\n",
    "\n",
    "M = MongoClient()\n",
    "nds = M.nds_revised_20180326\n",
    "\n",
    "distortions = nds.distortions\n",
    "workflow_data = nds.workflow_data"
   ]
  },
  {
   "cell_type": "code",
   "execution_count": 2,
   "metadata": {},
   "outputs": [],
   "source": [
    "# workflow_data\n",
    "result = workflow_data.find()\n",
    "data = []\n",
    "for r in result:\n",
    "    data.append(dict(r))"
   ]
  },
  {
   "cell_type": "code",
   "execution_count": 3,
   "metadata": {},
   "outputs": [],
   "source": [
    "json.dump(json.loads(dumps(data, sort_keys=True, indent=4)),\n",
    "          open('workflow_data.json','w'), sort_keys=True, indent=4)"
   ]
  },
  {
   "cell_type": "code",
   "execution_count": 4,
   "metadata": {},
   "outputs": [],
   "source": [
    "# distortions\n",
    "result = distortions.find()\n",
    "data = []\n",
    "for r in result:\n",
    "    data.append(dict(r))"
   ]
  },
  {
   "cell_type": "code",
   "execution_count": 5,
   "metadata": {},
   "outputs": [],
   "source": [
    "json.dump(json.loads(dumps(data, sort_keys=True, indent=4)),\n",
    "          open('distortions.json','w'), sort_keys=True, indent=4)"
   ]
  }
 ],
 "metadata": {
  "kernelspec": {
   "display_name": "Python 2",
   "language": "python",
   "name": "python2"
  },
  "language_info": {
   "codemirror_mode": {
    "name": "ipython",
    "version": 2
   },
   "file_extension": ".py",
   "mimetype": "text/x-python",
   "name": "python",
   "nbconvert_exporter": "python",
   "pygments_lexer": "ipython2",
   "version": "2.7.12"
  }
 },
 "nbformat": 4,
 "nbformat_minor": 2
}
